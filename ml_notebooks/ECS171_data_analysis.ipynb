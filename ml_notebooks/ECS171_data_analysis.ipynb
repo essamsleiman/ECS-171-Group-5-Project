{
  "cells": [
    {
      "cell_type": "code",
      "execution_count": null,
      "metadata": {
        "id": "L934dR2oFvYx"
      },
      "outputs": [],
      "source": [
        "# Torch Imports\n",
        "import torch\n",
        "import torchvision\n",
        "import torchvision.transforms as transforms"
      ]
    },
    {
      "cell_type": "code",
      "execution_count": null,
      "metadata": {
        "colab": {
          "base_uri": "https://localhost:8080/"
        },
        "id": "03Rcdzp_F8_D",
        "outputId": "6022d433-9a57-43ba-dd92-8b0827ddebc8"
      },
      "outputs": [],
      "source": [
        "# Mount Drive\n",
        "from google.colab import drive\n",
        "drive.mount('/content/drive')"
      ]
    },
    {
      "cell_type": "code",
      "execution_count": null,
      "metadata": {
        "id": "Dy4aZPP4F-U3"
      },
      "outputs": [],
      "source": [
        "# HAM10000 Dataloader\n",
        "import os\n",
        "import torch\n",
        "import pandas as pd\n",
        "import torchvision\n",
        "import torchvision.io\n",
        "from torchvision.io.image import read_image\n",
        "from torch.utils.data import Dataset\n",
        "from PIL import Image\n",
        "import numpy as np\n",
        "import cv2 as io\n",
        "\n",
        "class Ham10000(Dataset):\n",
        "    def __init__(self, csv_file, directory, transform, datasetname):\n",
        "        self.annotations = pd.read_csv(f\"{csv_file}\")\n",
        "        self.img_root_dir = 'dataverse_files_off'\n",
        "        self.transform = transform\n",
        "        self.datasetname = datasetname\n",
        "        self.csv_file = csv_file\n",
        "        self.directory = directory\n",
        "        \n",
        "    def __len__(self):\n",
        "        return len(self.annotations)\n",
        "\n",
        "    def __getitem__(self, idx):\n",
        "        img_path = ''\n",
        "        img_path = os.path.join(self.directory, self.datasetname, self.annotations.iloc[idx, 1])\n",
        "        img_path += \".jpg\"\n",
        "\n",
        "        x_img = io.imread(img_path)\n",
        "        if self.transform:\n",
        "            x_img = self.transform(x_img)\n",
        "\n",
        "\n",
        "        y_label = torch.tensor(int(self.annotations.iloc[idx, 7]))\n",
        "        \n",
        "        return (x_img, y_label)"
      ]
    },
    {
      "cell_type": "code",
      "execution_count": null,
      "metadata": {
        "id": "CY37FJrHGEQF"
      },
      "outputs": [],
      "source": [
        "# Load in dataset\n",
        "\n",
        "csv_file = \"./drive/MyDrive/Colab Notebooks/dataverse_files_off/HAM10000_metadata.csv\"\n",
        "directory = \"./drive/MyDrive/Colab Notebooks/dataverse_files_off\"\n",
        "\n",
        "transform = transforms.Compose(\n",
        "      [\n",
        "        transforms.ToTensor()\n",
        "      ]\n",
        "    )\n",
        "\n",
        "datasetname = \"HAM10000_images_off\"\n",
        "dataset = Ham10000(csv_file, directory, transform, datasetname)"
      ]
    },
    {
      "cell_type": "code",
      "execution_count": null,
      "metadata": {
        "colab": {
          "base_uri": "https://localhost:8080/",
          "height": 114
        },
        "id": "W6_dlQILGPyT",
        "outputId": "6f2910f4-9896-4695-cadf-887fd09ccadb"
      },
      "outputs": [],
      "source": [
        "# Generate Sample Images from each class\n",
        "import pandas as pd\n",
        "from PIL import Image, ImageFont, ImageDraw \n",
        "\n",
        "df = pd.read_csv(csv_file)\n",
        "\n",
        "sample_imgs = pd.DataFrame(columns=df.columns)\n",
        "# get one image per class\n",
        "for i, val in enumerate(df['label'].unique(),0):\n",
        "  elems = df[df['label'] == val]\n",
        "  sample_imgs.loc[val] = elems.iloc[0]\n",
        "\n",
        "\n",
        "sample_imgs.sort_index(inplace=True)\n",
        "\n",
        "# display images\n",
        "image_width = 600\n",
        "image_height = 450\n",
        "stitched_image = Image.new('RGB', (image_width*7, image_height))\n",
        "\n",
        "font = ImageFont.truetype(\"arial.ttf\", 60) # must add font file to current working directory\n",
        "\n",
        "for index,row in sample_imgs.iterrows():\n",
        "  image_path = os.path.join(directory,datasetname,row['image_id'])\n",
        "  image_path += \".jpg\"\n",
        "\n",
        "  im = Image.open(image_path)\n",
        "  image_editable = ImageDraw.Draw(im)\n",
        "  image_editable.text((image_width/2-30,image_height-70), row['dx'], (255, 0, 0), font=font, anchor='mm')\n",
        "\n",
        "  stitched_image.paste(im=im,box=(image_width*index, 0))\n",
        "\n",
        "display(stitched_image)"
      ]
    },
    {
      "cell_type": "code",
      "execution_count": null,
      "metadata": {
        "colab": {
          "base_uri": "https://localhost:8080/",
          "height": 691
        },
        "id": "dCFOw3tJ4zCw",
        "outputId": "f0400adb-ee5a-4c4c-c4bf-e04641693b77"
      },
      "outputs": [],
      "source": [
        "# Visalize Tranformation\n",
        "\n",
        "csv_file = \"./drive/MyDrive/Colab Notebooks/dataverse_files_off/HAM10000_metadata.csv\"\n",
        "directory = \"./drive/MyDrive/Colab Notebooks/dataverse_files_off\"\n",
        "\n",
        "import torchvision.transforms as T\n",
        "\n",
        "transform = transforms.Compose(\n",
        "      [\n",
        "        transforms.ToTensor(),\n",
        "        transforms.RandomCrop(224),\n",
        "        transforms.RandomRotation(degrees=(13)),\n",
        "        transforms.ColorJitter(brightness=.5, hue=.3),\n",
        "        transforms.Normalize((0.1411, 0.0923, 0.5270), (0.3407, 0.3058, 0.2824))\n",
        "          \n",
        "      ]\n",
        "    )\n",
        "\n",
        "img_path = os.path.join(directory,datasetname,\"ISIC_0027419.jpg\")\n",
        "im_og = Image.open(img_path)\n",
        "\n",
        "im_new = transform(im_og)\n",
        "conv_back = T.ToPILImage()\n",
        "display(im_og)\n",
        "display(conv_back(im_new))"
      ]
    },
    {
      "cell_type": "code",
      "execution_count": null,
      "metadata": {
        "colab": {
          "base_uri": "https://localhost:8080/",
          "height": 437
        },
        "id": "bwi8kgYlRI7Z",
        "outputId": "24fd8473-cd11-4632-beb2-3603faee9d64"
      },
      "outputs": [],
      "source": [
        "# Get Distribution of Classes\n",
        "import seaborn as sns\n",
        "df = pd.read_csv(csv_file)\n",
        "print(df['dx'].value_counts())\n",
        "df.rename(columns={'dx':\"class\"},inplace=True)\n",
        "\n",
        "sns.set_theme(style=\"darkgrid\")\n",
        "ax = sns.countplot(x=\"class\", data=df).set(title=\"Distribution of Lesions\",xlabel='Class',ylabel='Count')"
      ]
    },
    {
      "cell_type": "code",
      "execution_count": null,
      "metadata": {
        "colab": {
          "base_uri": "https://localhost:8080/",
          "height": 301
        },
        "id": "D6aGIiFkTrC-",
        "outputId": "c1d7af5b-b895-4c4e-eb21-3ee87d55b622"
      },
      "outputs": [],
      "source": [
        "# Get Gender Distribution\n",
        "import seaborn as sns\n",
        "df = pd.read_csv(csv_file)\n",
        "\n",
        "sns.set_theme(style=\"darkgrid\")\n",
        "ax = sns.countplot(x=\"sex\", data=df).set(title=\"Gender Distribution\",xlabel='Gender',ylabel='Count')"
      ]
    },
    {
      "cell_type": "code",
      "execution_count": null,
      "metadata": {
        "colab": {
          "base_uri": "https://localhost:8080/",
          "height": 302
        },
        "id": "aNmhnhRzciXH",
        "outputId": "5f7de984-9798-40c8-bb9e-fcae6d147daf"
      },
      "outputs": [],
      "source": [
        "# Get Age Distribtuion\n",
        "import seaborn as sns\n",
        "df = pd.read_csv(csv_file)\n",
        "ages = df.dropna()\n",
        "# ages.loc[~(ages==0).all(axis=1)]\n",
        "\n",
        "print(ages['age'].unique())\n",
        "sns.set(font_scale=0.6)\n",
        "ax = sns.countplot(x=\"age\", data=ages).set(title=\"Age Distribution\",xlabel='Age',ylabel='Count')"
      ]
    }
  ],
  "metadata": {
    "colab": {
      "collapsed_sections": [],
      "name": "ECS171-data-analysis.ipynb",
      "provenance": []
    },
    "kernelspec": {
      "display_name": "Python 3",
      "name": "python3"
    },
    "language_info": {
      "name": "python"
    }
  },
  "nbformat": 4,
  "nbformat_minor": 0
}
